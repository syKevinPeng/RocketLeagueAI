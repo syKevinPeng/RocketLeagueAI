{
 "cells": [
  {
   "cell_type": "code",
   "execution_count": null,
   "metadata": {
    "collapsed": true,
    "pycharm": {
     "name": "#%%\n",
     "is_executing": true
    }
   },
   "outputs": [
    {
     "name": "stdout",
     "output_type": "stream",
     "text": [
      "Version 0.4.1\n",
      "\n",
      "    - Updated euler angles to match rlbot [pitch, yaw, roll] and added accessor functions\n",
      "    - Bugfix: player.is_alive renamed to is_demoed\n",
      "    - Added common rewards - Rolv\n",
      "    - Added a reward combiner - Chainso\n",
      "    - Added missing kickoff spawn\n",
      "    - Fixed 2v2 and 3v3 action delivery\n",
      "    - Fixed issue in 2v2 and 3v3 were blue bots would disappear over time\n",
      "    - Added multi injector\n",
      "    \n",
      "\n",
      "Launching Rocket League, make sure bakkesmod is running.\n"
     ]
    }
   ],
   "source": [
    "import rlgym\n",
    "env = rlgym.make(\"Duel\")"
   ]
  },
  {
   "cell_type": "markdown",
   "source": [
    "Copy and pasted example.py from git repo: https://github.com/lucas-emery/rocket-league-gym/blob/main/example.py"
   ],
   "metadata": {
    "collapsed": false,
    "pycharm": {
     "name": "#%% md\n"
    }
   }
  },
  {
   "cell_type": "code",
   "execution_count": null,
   "outputs": [],
   "source": [
    "import rlgym\n",
    "import time\n",
    "\n",
    "env = rlgym.make(\"Duel\")\n",
    "# agent = RandomAgent()\n",
    "# print(env.action_space.shape, env.observation_space.shape)\n",
    "\n",
    "while True:\n",
    "    obs = env.reset()\n",
    "    done = False\n",
    "    steps = 0\n",
    "    ep_reward = 0\n",
    "    t0 = time.time()\n",
    "    while not done:\n",
    "        actions = env.action_space.sample()  # agent.act(obs) | Your agent should go here\n",
    "        new_obs, reward, done, state = env.step(actions)\n",
    "        ep_reward += reward\n",
    "        obs = new_obs\n",
    "        steps += 1\n",
    "\n",
    "    length = time.time() - t0\n",
    "    print(\"Step time: {:1.5f} | Episode time: {:.2f} | Episode Reward: {:.2f}\".format(length / steps, length, ep_reward))"
   ],
   "metadata": {
    "collapsed": false,
    "pycharm": {
     "name": "#%%\n",
     "is_executing": true
    }
   }
  },
  {
   "cell_type": "code",
   "execution_count": null,
   "outputs": [
    {
     "name": "stdout",
     "output_type": "stream",
     "text": [
      "Version 0.4.1\n",
      "\n",
      "    - Updated euler angles to match rlbot [pitch, yaw, roll] and added accessor functions\n",
      "    - Bugfix: player.is_alive renamed to is_demoed\n",
      "    - Added common rewards - Rolv\n",
      "    - Added a reward combiner - Chainso\n",
      "    - Added missing kickoff spawn\n",
      "    - Fixed 2v2 and 3v3 action delivery\n",
      "    - Fixed issue in 2v2 and 3v3 were blue bots would disappear over time\n",
      "    - Added multi injector\n",
      "    \n",
      "\n",
      "Launching Rocket League, make sure bakkesmod is running.\n"
     ]
    }
   ],
   "source": [
    "import rlgym\n",
    "import time\n",
    "\n",
    "env = rlgym.make(\"DuelSelf\")\n",
    "\n",
    "while True:\n",
    "    obs = env.reset()\n",
    "    obs_1 = obs[0]\n",
    "    obs_2 = obs[1]\n",
    "    done = False\n",
    "    steps = 0\n",
    "    ep_reward = 0\n",
    "    t0 = time.time()\n",
    "    while not done:\n",
    "        actions_1 = env.action_space.sample()\n",
    "        actions_2 = env.action_space.sample()\n",
    "        actions = [actions_1, actions_2]\n",
    "        new_obs, reward, done, state = env.step(actions)\n",
    "        ep_reward += reward[0]\n",
    "        obs_1 = new_obs[0]\n",
    "        obs_2 = new_obs[1]\n",
    "        steps += 1\n",
    "\n",
    "    length = time.time() - t0\n",
    "    print(\"Step time: {:1.5f} | Episode time: {:.2f} | Episode Reward: {:.2f}\".format(length / steps, length, ep_reward))\n"
   ],
   "metadata": {
    "collapsed": false,
    "pycharm": {
     "name": "#%%\n",
     "is_executing": true
    }
   }
  },
  {
   "cell_type": "code",
   "execution_count": 11,
   "outputs": [
    {
     "data": {
      "text/plain": "<matplotlib.image.AxesImage at 0x2ecd62c7340>"
     },
     "execution_count": 11,
     "metadata": {},
     "output_type": "execute_result"
    },
    {
     "data": {
      "text/plain": "<Figure size 432x288 with 1 Axes>",
      "image/png": "[encoded data removed]"
     },
     "metadata": {
      "needs_background": "light"
     },
     "output_type": "display_data"
    }
   ],
   "source": [
    "import cv2, os\n",
    "import matplotlib.pyplot as plt\n",
    "output_dir = os.path.join(\"E:\\Study\\my_research\", \"3D_Data_Generator\", \"output\")\n",
    "rgb_filename = \"rgb.jpg\"\n",
    "depth_filename = \"depth.png\"\n",
    "instance_filename = \"instance.png\"\n",
    "rgb_img = plt.imread(os.path.join(output_dir, rgb_filename))\n",
    "depth_img = plt.imread(os.path.join(output_dir, depth_filename))\n",
    "plt.imshow(rgb_img)"
   ],
   "metadata": {
    "collapsed": false,
    "pycharm": {
     "name": "#%%\n"
    }
   }
  },
  {
   "cell_type": "code",
   "execution_count": 12,
   "outputs": [
    {
     "data": {
      "text/plain": "array([[0., 0., 0., ..., 0., 0., 0.],\n       [0., 0., 0., ..., 0., 0., 0.],\n       [0., 0., 0., ..., 0., 0., 0.],\n       ...,\n       [0., 0., 0., ..., 0., 0., 0.],\n       [0., 0., 0., ..., 0., 0., 0.],\n       [0., 0., 0., ..., 0., 0., 0.]], dtype=float32)"
     },
     "execution_count": 12,
     "metadata": {},
     "output_type": "execute_result"
    }
   ],
   "source": [
    "depth_img\n"
   ],
   "metadata": {
    "collapsed": false,
    "pycharm": {
     "name": "#%%\n"
    }
   }
  },
  {
   "cell_type": "code",
   "execution_count": 7,
   "outputs": [
    {
     "data": {
      "text/plain": "True"
     },
     "execution_count": 7,
     "metadata": {},
     "output_type": "execute_result"
    }
   ],
   "source": [
    "os.path.isdir(output_dir)"
   ],
   "metadata": {
    "collapsed": false,
    "pycharm": {
     "name": "#%%\n"
    }
   }
  },
  {
   "cell_type": "code",
   "execution_count": null,
   "outputs": [],
   "source": [],
   "metadata": {
    "collapsed": false,
    "pycharm": {
     "name": "#%%\n"
    }
   }
  }
 ],
 "metadata": {
  "kernelspec": {
   "name": "pycharm-4f7278ab",
   "language": "python",
   "display_name": "PyCharm (cmsc472)"
  },
  "language_info": {
   "codemirror_mode": {
    "name": "ipython",
    "version": 2
   },
   "file_extension": ".py",
   "mimetype": "text/x-python",
   "name": "python",
   "nbconvert_exporter": "python",
   "pygments_lexer": "ipython2",
   "version": "2.7.6"
  }
 },
 "nbformat": 4,
 "nbformat_minor": 0
}