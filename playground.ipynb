{
 "cells": [
  {
   "cell_type": "code",
   "execution_count": null,
   "metadata": {
    "collapsed": true,
    "pycharm": {
     "name": "#%%\n",
     "is_executing": true
    }
   },
   "outputs": [
    {
     "name": "stdout",
     "output_type": "stream",
     "text": [
      "Version 0.4.1\n",
      "\n",
      "    - Updated euler angles to match rlbot [pitch, yaw, roll] and added accessor functions\n",
      "    - Bugfix: player.is_alive renamed to is_demoed\n",
      "    - Added common rewards - Rolv\n",
      "    - Added a reward combiner - Chainso\n",
      "    - Added missing kickoff spawn\n",
      "    - Fixed 2v2 and 3v3 action delivery\n",
      "    - Fixed issue in 2v2 and 3v3 were blue bots would disappear over time\n",
      "    - Added multi injector\n",
      "    \n",
      "\n",
      "Launching Rocket League, make sure bakkesmod is running.\n"
     ]
    }
   ],
   "source": [
    "import rlgym\n",
    "env = rlgym.make(\"Duel\")"
   ]
  },
  {
   "cell_type": "markdown",
   "source": [
    "Copy and pasted example.py from git repo: https://github.com/lucas-emery/rocket-league-gym/blob/main/example.py"
   ],
   "metadata": {
    "collapsed": false,
    "pycharm": {
     "name": "#%% md\n"
    }
   }
  },
  {
   "cell_type": "code",
   "execution_count": null,
   "outputs": [],
   "source": [
    "import rlgym\n",
    "import time\n",
    "\n",
    "env = rlgym.make(\"Duel\")\n",
    "# agent = RandomAgent()\n",
    "# print(env.action_space.shape, env.observation_space.shape)\n",
    "\n",
    "while True:\n",
    "    obs = env.reset()\n",
    "    done = False\n",
    "    steps = 0\n",
    "    ep_reward = 0\n",
    "    t0 = time.time()\n",
    "    while not done:\n",
    "        actions = env.action_space.sample()  # agent.act(obs) | Your agent should go here\n",
    "        new_obs, reward, done, state = env.step(actions)\n",
    "        ep_reward += reward\n",
    "        obs = new_obs\n",
    "        steps += 1\n",
    "\n",
    "    length = time.time() - t0\n",
    "    print(\"Step time: {:1.5f} | Episode time: {:.2f} | Episode Reward: {:.2f}\".format(length / steps, length, ep_reward))"
   ],
   "metadata": {
    "collapsed": false,
    "pycharm": {
     "name": "#%%\n"
    }
   }
  }
 ],
 "metadata": {
  "kernelspec": {
   "name": "pycharm-6d9b2533",
   "language": "python",
   "display_name": "PyCharm (rocketleague)"
  },
  "language_info": {
   "codemirror_mode": {
    "name": "ipython",
    "version": 2
   },
   "file_extension": ".py",
   "mimetype": "text/x-python",
   "name": "python",
   "nbconvert_exporter": "python",
   "pygments_lexer": "ipython2",
   "version": "2.7.6"
  }
 },
 "nbformat": 4,
 "nbformat_minor": 0
}